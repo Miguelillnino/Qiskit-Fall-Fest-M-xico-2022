{
  "cells": [
    {
      "cell_type": "code",
      "execution_count": 1,
      "metadata": {
        "id": "B1TTa8bZSK25",
        "outputId": "40ecc07e-041a-4760-9108-679c3dac1dab",
        "colab": {
          "base_uri": "https://localhost:8080/"
        }
      },
      "outputs": [
        {
          "output_type": "stream",
          "name": "stdout",
          "text": [
            "Looking in indexes: https://pypi.org/simple, https://us-python.pkg.dev/colab-wheels/public/simple/\n",
            "Collecting ricker\n",
            "  Downloading ricker-0.1.2.tar.gz (3.1 kB)\n",
            "Building wheels for collected packages: ricker\n",
            "  Building wheel for ricker (setup.py) ... \u001b[?25l\u001b[?25hdone\n",
            "  Created wheel for ricker: filename=ricker-0.1.2-py3-none-any.whl size=3229 sha256=5502f6b82ec5b269fd052887d91fab9693c5d728b4d4532e78cd60dc90121414\n",
            "  Stored in directory: /root/.cache/pip/wheels/85/34/de/3099f8a54aba9ed44e1766aafb60adb56d2036fedccd1e6612\n",
            "Successfully built ricker\n",
            "Installing collected packages: ricker\n",
            "Successfully installed ricker-0.1.2\n",
            "Looking in indexes: https://pypi.org/simple, https://us-python.pkg.dev/colab-wheels/public/simple/\n",
            "Collecting qiskit\n",
            "  Downloading qiskit-0.39.1.tar.gz (13 kB)\n",
            "Collecting qiskit-terra==0.22.1\n",
            "  Downloading qiskit_terra-0.22.1-cp37-cp37m-manylinux_2_17_x86_64.manylinux2014_x86_64.whl (4.7 MB)\n",
            "\u001b[K     |████████████████████████████████| 4.7 MB 8.7 MB/s \n",
            "\u001b[?25hCollecting qiskit-aer==0.11.1\n",
            "  Downloading qiskit_aer-0.11.1-cp37-cp37m-manylinux_2_17_x86_64.manylinux2014_x86_64.whl (19.2 MB)\n",
            "\u001b[K     |████████████████████████████████| 19.2 MB 8.1 MB/s \n",
            "\u001b[?25hCollecting qiskit-ibmq-provider==0.19.2\n",
            "  Downloading qiskit_ibmq_provider-0.19.2-py3-none-any.whl (240 kB)\n",
            "\u001b[K     |████████████████████████████████| 240 kB 51.8 MB/s \n",
            "\u001b[?25hRequirement already satisfied: numpy>=1.16.3 in /usr/local/lib/python3.7/dist-packages (from qiskit-aer==0.11.1->qiskit) (1.21.6)\n",
            "Requirement already satisfied: scipy>=1.0 in /usr/local/lib/python3.7/dist-packages (from qiskit-aer==0.11.1->qiskit) (1.7.3)\n",
            "Requirement already satisfied: requests>=2.19 in /usr/local/lib/python3.7/dist-packages (from qiskit-ibmq-provider==0.19.2->qiskit) (2.23.0)\n",
            "Collecting websocket-client>=1.0.1\n",
            "  Downloading websocket_client-1.4.1-py3-none-any.whl (55 kB)\n",
            "\u001b[K     |████████████████████████████████| 55 kB 2.3 MB/s \n",
            "\u001b[?25hRequirement already satisfied: python-dateutil>=2.8.0 in /usr/local/lib/python3.7/dist-packages (from qiskit-ibmq-provider==0.19.2->qiskit) (2.8.2)\n",
            "Requirement already satisfied: urllib3>=1.21.1 in /usr/local/lib/python3.7/dist-packages (from qiskit-ibmq-provider==0.19.2->qiskit) (1.24.3)\n",
            "Collecting websockets>=10.0\n",
            "  Downloading websockets-10.4-cp37-cp37m-manylinux_2_5_x86_64.manylinux1_x86_64.manylinux_2_17_x86_64.manylinux2014_x86_64.whl (106 kB)\n",
            "\u001b[K     |████████████████████████████████| 106 kB 34.6 MB/s \n",
            "\u001b[?25hCollecting requests-ntlm>=1.1.0\n",
            "  Downloading requests_ntlm-1.1.0-py2.py3-none-any.whl (5.7 kB)\n",
            "Collecting symengine>=0.9\n",
            "  Downloading symengine-0.9.2-cp37-cp37m-manylinux2010_x86_64.whl (37.5 MB)\n",
            "\u001b[K     |████████████████████████████████| 37.5 MB 1.2 MB/s \n",
            "\u001b[?25hCollecting ply>=3.10\n",
            "  Downloading ply-3.11-py2.py3-none-any.whl (49 kB)\n",
            "\u001b[K     |████████████████████████████████| 49 kB 6.3 MB/s \n",
            "\u001b[?25hRequirement already satisfied: dill>=0.3 in /usr/local/lib/python3.7/dist-packages (from qiskit-terra==0.22.1->qiskit) (0.3.6)\n",
            "Requirement already satisfied: importlib-metadata<5.0 in /usr/local/lib/python3.7/dist-packages (from qiskit-terra==0.22.1->qiskit) (4.13.0)\n",
            "Requirement already satisfied: psutil>=5 in /usr/local/lib/python3.7/dist-packages (from qiskit-terra==0.22.1->qiskit) (5.4.8)\n",
            "Collecting tweedledum<2.0,>=1.1\n",
            "  Downloading tweedledum-1.1.1-cp37-cp37m-manylinux_2_12_x86_64.manylinux2010_x86_64.whl (943 kB)\n",
            "\u001b[K     |████████████████████████████████| 943 kB 59.9 MB/s \n",
            "\u001b[?25hCollecting shared-memory38\n",
            "  Downloading shared_memory38-0.1.2-cp37-cp37m-manylinux_2_5_x86_64.manylinux1_x86_64.whl (25 kB)\n",
            "Collecting retworkx>=0.11.0\n",
            "  Downloading retworkx-0.12.0-py3-none-any.whl (10 kB)\n",
            "Requirement already satisfied: typing-extensions in /usr/local/lib/python3.7/dist-packages (from qiskit-terra==0.22.1->qiskit) (4.1.1)\n",
            "Requirement already satisfied: sympy>=1.3 in /usr/local/lib/python3.7/dist-packages (from qiskit-terra==0.22.1->qiskit) (1.7.1)\n",
            "Collecting stevedore>=3.0.0\n",
            "  Downloading stevedore-3.5.2-py3-none-any.whl (50 kB)\n",
            "\u001b[K     |████████████████████████████████| 50 kB 6.2 MB/s \n",
            "\u001b[?25hRequirement already satisfied: zipp>=0.5 in /usr/local/lib/python3.7/dist-packages (from importlib-metadata<5.0->qiskit-terra==0.22.1->qiskit) (3.10.0)\n",
            "Requirement already satisfied: six>=1.5 in /usr/local/lib/python3.7/dist-packages (from python-dateutil>=2.8.0->qiskit-ibmq-provider==0.19.2->qiskit) (1.15.0)\n",
            "Requirement already satisfied: certifi>=2017.4.17 in /usr/local/lib/python3.7/dist-packages (from requests>=2.19->qiskit-ibmq-provider==0.19.2->qiskit) (2022.9.24)\n",
            "Requirement already satisfied: chardet<4,>=3.0.2 in /usr/local/lib/python3.7/dist-packages (from requests>=2.19->qiskit-ibmq-provider==0.19.2->qiskit) (3.0.4)\n",
            "Requirement already satisfied: idna<3,>=2.5 in /usr/local/lib/python3.7/dist-packages (from requests>=2.19->qiskit-ibmq-provider==0.19.2->qiskit) (2.10)\n",
            "Collecting ntlm-auth>=1.0.2\n",
            "  Downloading ntlm_auth-1.5.0-py2.py3-none-any.whl (29 kB)\n",
            "Collecting cryptography>=1.3\n",
            "  Downloading cryptography-38.0.3-cp36-abi3-manylinux_2_24_x86_64.whl (4.1 MB)\n",
            "\u001b[K     |████████████████████████████████| 4.1 MB 43.0 MB/s \n",
            "\u001b[?25hRequirement already satisfied: cffi>=1.12 in /usr/local/lib/python3.7/dist-packages (from cryptography>=1.3->requests-ntlm>=1.1.0->qiskit-ibmq-provider==0.19.2->qiskit) (1.15.1)\n",
            "Requirement already satisfied: pycparser in /usr/local/lib/python3.7/dist-packages (from cffi>=1.12->cryptography>=1.3->requests-ntlm>=1.1.0->qiskit-ibmq-provider==0.19.2->qiskit) (2.21)\n",
            "Collecting rustworkx==0.12.0\n",
            "  Downloading rustworkx-0.12.0-cp37-cp37m-manylinux_2_17_x86_64.manylinux2014_x86_64.whl (1.9 MB)\n",
            "\u001b[K     |████████████████████████████████| 1.9 MB 43.1 MB/s \n",
            "\u001b[?25hCollecting pbr!=2.1.0,>=2.0.0\n",
            "  Downloading pbr-5.11.0-py2.py3-none-any.whl (112 kB)\n",
            "\u001b[K     |████████████████████████████████| 112 kB 45.1 MB/s \n",
            "\u001b[?25hRequirement already satisfied: mpmath>=0.19 in /usr/local/lib/python3.7/dist-packages (from sympy>=1.3->qiskit-terra==0.22.1->qiskit) (1.2.1)\n",
            "Building wheels for collected packages: qiskit\n",
            "  Building wheel for qiskit (setup.py) ... \u001b[?25l\u001b[?25hdone\n",
            "  Created wheel for qiskit: filename=qiskit-0.39.1-py3-none-any.whl size=12224 sha256=16f42a7edb89b002ccafe37a85e46168a2d12957413d230b7371418d6e87dbcb\n",
            "  Stored in directory: /root/.cache/pip/wheels/5a/65/57/e93e86f4ed53a465100d55efeba42f633d45279aaec21371d4\n",
            "Successfully built qiskit\n",
            "Installing collected packages: rustworkx, pbr, tweedledum, symengine, stevedore, shared-memory38, retworkx, ply, ntlm-auth, cryptography, websockets, websocket-client, requests-ntlm, qiskit-terra, qiskit-ibmq-provider, qiskit-aer, qiskit\n",
            "Successfully installed cryptography-38.0.3 ntlm-auth-1.5.0 pbr-5.11.0 ply-3.11 qiskit-0.39.1 qiskit-aer-0.11.1 qiskit-ibmq-provider-0.19.2 qiskit-terra-0.22.1 requests-ntlm-1.1.0 retworkx-0.12.0 rustworkx-0.12.0 shared-memory38-0.1.2 stevedore-3.5.2 symengine-0.9.2 tweedledum-1.1.1 websocket-client-1.4.1 websockets-10.4\n"
          ]
        }
      ],
      "source": [
        "# Cesar Castrejon,\n",
        "# Jazhiel Chacon,\n",
        "# Luis Enrique Andrade Gorjoux,\n",
        "# Miguel de Jesus Martínez Felipe, and\n",
        "# Oscar Roberto Chaparro Amaro, \n",
        "\n",
        "!pip install ricker\n",
        "!pip install qiskit\n",
        "\n",
        "#Libraries\n",
        "import math\n",
        "import numpy as np\n",
        "import matplotlib.pyplot as plt\n",
        "from numpy import pi\n",
        "\n",
        "#Qiskit\n",
        "from qiskit import QuantumCircuit, QuantumRegister,ClassicalRegister, assemble, Aer, transpile\n",
        "from qiskit.visualization import plot_histogram, array_to_latex\n",
        "from qiskit.quantum_info import Statevector\n",
        "\n",
        "#Normalization\n",
        "from sklearn.preprocessing import MinMaxScaler\n",
        "#Simulation\n",
        "from ricker import ricker"
      ]
    },
    {
      "cell_type": "markdown",
      "source": [
        "## Discrete Fourier Transform"
      ],
      "metadata": {
        "id": "Fss5nQ9vlwpk"
      }
    },
    {
      "cell_type": "markdown",
      "source": [
        "\n",
        "$\\bullet$Discrete:\n",
        "\\begin{equation}\n",
        "X_{k} = \\displaystyle\\sum_{n=0}^{N-1} x_{n} \\cdot e^{-\\frac{j2\\pi kn}{N}}\n",
        "\\end{equation}\n",
        "<br>\n",
        "<br>\n",
        "Where: ${-\\frac{2\\pi kn}{N}} \\rightarrow b_{n}$\n",
        "<br>\n",
        "<br>\n",
        "\\begin{equation}\n",
        "X_{k} = x_{0}e^{-b_{0}j} + x_{1}e^{-b_{1}j} + \\dots + x_{n-1}e^{-b_{N-1}j}\n",
        "\\end{equation}\n",
        "<br>\n",
        "\n",
        "\n",
        "Here there is an example of one array with 8 input samples in the classical part."
      ],
      "metadata": {
        "id": "yaz90I_HmAZj"
      }
    },
    {
      "cell_type": "markdown",
      "source": [
        "## Quantum Fourier Transform\n",
        "\n",
        "$$\\newcommand{\\ket}[1]{\\left|{#1}\\right\\rangle}$$\n",
        "$$\\newcommand{\\bra}[1]{\\left\\langle{#1}\\right|}$$\n",
        "\n",
        "As it explained in [3], the Fourier transform occurs in many different versions throughout classical computing, in areas ranging from signal processing to data compression to complexity theory. The quantum Fourier transform (QFT) is the quantum implementation of the discrete Fourier transform over the amplitudes of a wavefunction. It is part of many quantum algorithms, most notably Shor's factoring algorithm and quantum phase estimation [4].\n",
        "\n",
        "The Quantum Fourier Transform (QFT) on qubits is the operation:\n",
        "\n",
        "\\begin{equation}\n",
        "\\ket{j} \\mapsto \\frac{1}{2^{n/2}} \\sum_{k=0}^{2^n - 1} e^{2\\pi ijk / 2^n} \\ket{k}\n",
        "\\end{equation}"
      ],
      "metadata": {
        "id": "2AY_qfKWnVND"
      }
    },
    {
      "cell_type": "code",
      "source": [
        "def qft_rotations(circuit, n):\n",
        "    \"\"\"Performs qft on the first n qubits in circuit\"\"\"\n",
        "    if n == 0:\n",
        "        return circuit\n",
        "    n -= 1\n",
        "    circuit.h(n)\n",
        "    circuit.barrier()\n",
        "    for qubit in range(n):\n",
        "        circuit.cp(pi/2**(n-qubit), qubit, n)\n",
        "    qft_rotations(circuit, n)\n",
        "\n",
        "def swap_registers(circuit, n):\n",
        "    \"\"\"swap\"\"\"\n",
        "    for qubit in range(n//2):\n",
        "        circuit.swap(qubit, n-qubit-1)\n",
        "    return circuit\n",
        "\n",
        "def qft(circuit, n):\n",
        "    \"\"\"QFT on the first n qubits in circuit\"\"\"\n",
        "    qft_rotations(circuit, n)\n",
        "    swap_registers(circuit, n)\n",
        "    return circuit#.decompose()\n",
        "\n",
        "def qft_inser(circuit,n):\n",
        "    \"\"\"Insert the QFT\"\"\"\n",
        "    lenghtCircuit = len(circuit.qubits)\n",
        "    qft_circ = qft(QuantumCircuit(n,name='QFT'), n)\n",
        "    circuit.append(qft_circ, circuit.qubits[lenghtCircuit-n:lenghtCircuit])\n",
        "    return circuit#.decompose()\n",
        "\n",
        "def inverse_qft(circuit, n):\n",
        "    \"\"\"Does the inverse QFT on the first n qubits in circuit\"\"\"\n",
        "    lenghtCircuit = len(circuit.qubits)\n",
        "    qft_circ = qft(QuantumCircuit(n,name='inv_QFT'), n)\n",
        "    invqft_circ = qft_circ.inverse()\n",
        "    circuit.append(invqft_circ, circuit.qubits[lenghtCircuit-n:lenghtCircuit])\n",
        "    return circuit#.decompose()"
      ],
      "metadata": {
        "id": "_vXJSWzenPp8"
      },
      "execution_count": 2,
      "outputs": []
    },
    {
      "cell_type": "markdown",
      "source": [
        "## Encoding Classical data into Qubits using Amplitude Encoding\n",
        "$$\\newcommand{\\ket}[1]{\\left|{#1}\\right\\rangle}$$\n",
        "$$\\newcommand{\\bra}[1]{\\left\\langle{#1}\\right|}$$\n",
        "\n",
        "Amplitude encoding usually is implemented in quantum machine learning algorithms. The main reason to implement this encoding is the fact that is needed $n=log⁡_{2}M$ qubits to encode a dataset of $M$ inputs. If a quantum machine learning algorithm is a polynomial complexity in $n$, it has a logarithmic runtime dependency on the data set size. Promises of exponential speedups from qubit-efficient.\n",
        "\n",
        "For this particular experiment, a 1024 1-Dimentional signal is encoded in the following way:\n",
        "\\begin{equation}\n",
        "n = log_{2} 1024\n",
        "\\end{equation}\n",
        "\n",
        "\\begin{equation}\n",
        "n = 10\n",
        "\\end{equation}\n",
        "\n",
        "So 10 qubits are needed for each basis state of the system.\n",
        "\n",
        "\\begin{equation}\n",
        "\\ket{\\psi_{signal}} = M_{0} \\ket{0000000000} + M_{1} \\ket{0000000001} + \\cdots +M_{1024} \\ket{1111111111}\n",
        "\\end{equation}\n",
        "\n",
        "Since $\\ket{\\psi_{signal}}$ is a quantum state, the sum of the amplitudes must be equal to 1.\n",
        "\n",
        "\n",
        "This means that each amplitude must be normalize. For this normalization the Frobenius norm is applied\n",
        "\n",
        "\\begin{equation}\n",
        "|| A ||_{F} = \\left[∑_{ij} abs(ij)^{2} \\right]^{\\frac{1}{2}},\n",
        "\\end{equation}\n",
        "\n",
        "The nuclear norm is the sum of the singular values."
      ],
      "metadata": {
        "id": "KWVqBDA0xswI"
      }
    },
    {
      "cell_type": "code",
      "source": [
        "def create_encoded_qc(samples):\n",
        "    \"\"\"Encode classical data usign Amplitude encoding\"\"\"\n",
        "    amplitudes = len(samples)\n",
        "    num_qubits = int(math.log2(amplitudes))\n",
        "    q = QuantumRegister(num_qubits)\n",
        "    qc = QuantumCircuit(q)\n",
        "    normalized_amplitudes = samples / np.linalg.norm(samples) #Normalization\n",
        "    qc.initialize(normalized_amplitudes, [q[i] for i in range(num_qubits)])\n",
        "    return qc"
      ],
      "metadata": {
        "id": "AOtyp33pnwCK"
      },
      "execution_count": 3,
      "outputs": []
    },
    {
      "cell_type": "markdown",
      "source": [
        "## First Example using classical and quantum Fourier transform"
      ],
      "metadata": {
        "id": "M5wZwyP7a32p"
      }
    },
    {
      "cell_type": "code",
      "source": [
        "example_1 = np.array([0,1,0,0,0,1,0,0])\n",
        "Fourier_1 = np.fft.fft(example_1)\n",
        "print(Fourier_1,'Fourier_Classic')"
      ],
      "metadata": {
        "colab": {
          "base_uri": "https://localhost:8080/"
        },
        "id": "Onc98joHlSfN",
        "outputId": "313ed2d8-be36-4bdb-ed11-ce376bb4686b"
      },
      "execution_count": 4,
      "outputs": [
        {
          "output_type": "stream",
          "name": "stdout",
          "text": [
            "[ 2.+0.j  0.+0.j  0.-2.j  0.+0.j -2.+0.j  0.+0.j  0.+2.j  0.+0.j] Fourier_Classic\n"
          ]
        }
      ]
    },
    {
      "cell_type": "code",
      "source": [
        "#For the Quantum Fourier Transform with need n = log_{2} M qubits\n",
        "n_qc = int(math.log2(len(example_1)))\n",
        "qc = create_encoded_qc(example_1)\n",
        "qc = qft(qc,n_qc)\n",
        "# qc.draw(output='mpl')\n",
        "print(qc)\n",
        "#Execute the circuit\n",
        "backend = Aer.get_backend('statevector_simulator')\n",
        "job = backend.run(qc)\n",
        "result = job.result()\n",
        "outputstate = result.get_statevector(qc, decimals=1)\n",
        "recoverState = outputstate/((1/len(example_1))*2)\n",
        "print(recoverState,'Fourier_quantum')"
      ],
      "metadata": {
        "colab": {
          "base_uri": "https://localhost:8080/"
        },
        "id": "0DWDsp_alT-w",
        "outputId": "0324f0e6-60ee-4236-aa6e-0eb918648e15"
      },
      "execution_count": 5,
      "outputs": [
        {
          "output_type": "stream",
          "name": "stdout",
          "text": [
            "      ┌──────────────────────────────────────────┐      ░                   »\n",
            "q0_0: ┤0                                         ├──────░──■────────────────»\n",
            "      │                                          │      ░  │                »\n",
            "q0_1: ┤1 Initialize(0,0.70711,0,0,0,0.70711,0,0) ├──────░──┼────────■───────»\n",
            "      │                                          │┌───┐ ░  │P(π/4)  │P(π/2) »\n",
            "q0_2: ┤2                                         ├┤ H ├─░──■────────■───────»\n",
            "      └──────────────────────────────────────────┘└───┘ ░                   »\n",
            "«            ░          ┌───┐ ░    \n",
            "«q0_0: ──────░──■───────┤ H ├─░──X─\n",
            "«      ┌───┐ ░  │P(π/2) └───┘ ░  │ \n",
            "«q0_1: ┤ H ├─░──■─────────────░──┼─\n",
            "«      └───┘ ░                ░  │ \n",
            "«q0_2: ──────░────────────────░──X─\n",
            "«            ░                ░    \n",
            "Statevector([ 2.+0.j,  0.-0.j,  0.+2.j,  0.+0.j, -2.+0.j,  0.+0.j,  0.-2.j,\n",
            "             -0.+0.j],\n",
            "            dims=(2, 2, 2)) Fourier_quantum\n"
          ]
        }
      ]
    },
    {
      "cell_type": "code",
      "source": [
        "# Set the intial state of the simulator to the ground state using from_int\n",
        "stateTwo = Statevector.from_int(0, 2**n_qc)\n",
        "# Evolve the state by the quantum circuit\n",
        "stateTwo = stateTwo.evolve(qc)\n",
        "#draw using latex\n",
        "stateTwo.draw('latex')"
      ],
      "metadata": {
        "colab": {
          "base_uri": "https://localhost:8080/",
          "height": 39
        },
        "id": "VE5BdbWolYMv",
        "outputId": "192c7cde-84b1-45fe-c540-3000cfd5479a"
      },
      "execution_count": 6,
      "outputs": [
        {
          "output_type": "execute_result",
          "data": {
            "text/plain": [
              "<IPython.core.display.Latex object>"
            ],
            "text/latex": "$$\\frac{1}{2} |000\\rangle+\\frac{i}{2} |010\\rangle- \\frac{1}{2} |100\\rangle- \\frac{i}{2} |110\\rangle$$"
          },
          "metadata": {},
          "execution_count": 6
        }
      ]
    },
    {
      "cell_type": "code",
      "source": [
        "stateTwo.draw('qsphere')"
      ],
      "metadata": {
        "colab": {
          "base_uri": "https://localhost:8080/",
          "height": 411
        },
        "id": "F35jvPLqlaKt",
        "outputId": "96266ed7-7713-4ad6-d487-f25c2630fab2"
      },
      "execution_count": 7,
      "outputs": [
        {
          "output_type": "execute_result",
          "data": {
            "text/plain": [
              "<Figure size 504x504 with 2 Axes>"
            ],
            "image/png": "[encoded data removed]"
          },
          "metadata": {},
          "execution_count": 7
        }
      ]
    },
    {
      "cell_type": "markdown",
      "source": [
        "Since in the classical part it was neccesary 8 classical bits, in the quantum circuit $n = log_{2}M$ qubits just are needed $n = 3$ (in this particular case). The following plots show the point in the real part from the Discrete and Quantum Fourier Transform: "
      ],
      "metadata": {
        "id": "yx4NhnJhpKCu"
      }
    },
    {
      "cell_type": "code",
      "source": [
        "y = []\n",
        "for x in range(0,len(recoverState)):\n",
        "    y.append(math.sqrt(recoverState[x].real**2+recoverState[x].imag**2))\n",
        "print(y)\n",
        "print(\"\\n\")\n",
        "x = np.arange(len(example_1))\n",
        "plt.plot(y)\n",
        "plt.xlabel('Time')\n",
        "plt.ylabel('Amplitude')\n",
        "plt.title('Discrete Fourier Transform')\n",
        "plt.stem(x,y, 'r', )\n",
        "plt.show()"
      ],
      "metadata": {
        "colab": {
          "base_uri": "https://localhost:8080/",
          "height": 406
        },
        "id": "nVsqDZFqlcXp",
        "outputId": "24e84152-bd92-478c-8153-f1b9e438a7ce"
      },
      "execution_count": 8,
      "outputs": [
        {
          "output_type": "stream",
          "name": "stdout",
          "text": [
            "[2.0, 0.0, 2.0, 0.0, 2.0, 0.0, 2.0, 0.0]\n",
            "\n",
            "\n"
          ]
        },
        {
          "output_type": "stream",
          "name": "stderr",
          "text": [
            "/usr/local/lib/python3.7/dist-packages/ipykernel_launcher.py:11: UserWarning: In Matplotlib 3.3 individual lines on a stem plot will be added as a LineCollection instead of individual lines. This significantly improves the performance of a stem plot. To remove this warning and switch to the new behaviour, set the \"use_line_collection\" keyword argument to True.\n",
            "  # This is added back by InteractiveShellApp.init_path()\n"
          ]
        },
        {
          "output_type": "display_data",
          "data": {
            "text/plain": [
              "<Figure size 432x288 with 1 Axes>"
            ],
            "image/png": "[encoded data removed]"
          },
          "metadata": {
            "needs_background": "light"
          }
        }
      ]
    },
    {
      "cell_type": "code",
      "source": [
        "y = []\n",
        "for x in range(0,len(Fourier_1)):\n",
        "    y.append(math.sqrt(Fourier_1[x].real**2+Fourier_1[x].imag**2))\n",
        "print(y)\n",
        "print(\"\\n\")\n",
        "x = np.arange(len(example_1))\n",
        "plt.plot(y)\n",
        "plt.xlabel('Time')\n",
        "plt.ylabel('Amplitude')\n",
        "plt.title('Quantum Fourier Transform')\n",
        "plt.stem(x,y, 'r', )\n",
        "plt.show()"
      ],
      "metadata": {
        "colab": {
          "base_uri": "https://localhost:8080/",
          "height": 406
        },
        "id": "mTrP7Rezle8E",
        "outputId": "7c55f738-40bb-4f1c-8657-b419a090aeee"
      },
      "execution_count": 9,
      "outputs": [
        {
          "output_type": "stream",
          "name": "stdout",
          "text": [
            "[2.0, 0.0, 2.0, 0.0, 2.0, 0.0, 2.0, 0.0]\n",
            "\n",
            "\n"
          ]
        },
        {
          "output_type": "stream",
          "name": "stderr",
          "text": [
            "/usr/local/lib/python3.7/dist-packages/ipykernel_launcher.py:11: UserWarning: In Matplotlib 3.3 individual lines on a stem plot will be added as a LineCollection instead of individual lines. This significantly improves the performance of a stem plot. To remove this warning and switch to the new behaviour, set the \"use_line_collection\" keyword argument to True.\n",
            "  # This is added back by InteractiveShellApp.init_path()\n"
          ]
        },
        {
          "output_type": "display_data",
          "data": {
            "text/plain": [
              "<Figure size 432x288 with 1 Axes>"
            ],
            "image/png": "[encoded data removed]"
          },
          "metadata": {
            "needs_background": "light"
          }
        }
      ]
    },
    {
      "cell_type": "markdown",
      "metadata": {
        "id": "wIzQvug_otEV"
      },
      "source": [
        "# Classical Part using Ricker Wavelet Generator and Discrete Fourier Transform"
      ]
    },
    {
      "cell_type": "markdown",
      "source": [
        "The general case of the 1D acoustic wave equation (replacing the time derivatives by classical finite diferences) is:\n",
        "\n",
        "\\begin{equation}\n",
        "  \\frac{p(x, t+dt) -2p(x, t)+p(x,t)}{dt^2} = c(x)^2 \\frac{\\partial^2 p(x,t)}{\\partial x^2} + s(x,t)\n",
        "\\end{equation}\n",
        "\n",
        "where $c^2$ is the squared P-wave velocity, $p(x,t)$ is the pressure field in coordinate $x$ at $t$ time and $s$ is the source term.\n",
        "\n",
        "In the general case, the pseudospectral method calculates the spatial derivative as follows:\n",
        "\\begin{equation}\n",
        "    p(x,t) \\rightarrow FFT \\rightarrow p(k, t) \\rightarrow (ik)^2 p(k, t) \\rightarrow FFT^{-1} \\rightarrow \\frac{\\partial^2 p(x,t)}{\\partial x^2}\n",
        "\\end{equation}\n",
        "\n"
      ],
      "metadata": {
        "id": "yjvWc-cS89TT"
      }
    },
    {
      "cell_type": "markdown",
      "source": [
        "## Ricker Wavelet Generator and Discrete Fourier Transform\n",
        "\n",
        "We use a Python module called *Ricker Generator* in order to generate the Ricker wavelet amplitudes. This wavelet is defined as:\n",
        "\n",
        "\\begin{equation}\n",
        "A = \\left( 1 - 2\\pi^2 f^2 t^2\\right) e^{-\\pi^2 f^2 t^2}\n",
        "\\end{equation}\n",
        "where $f$ is the peak frequency and $t$ the time.\n",
        "\n",
        "In seismic theory, the convolutional model states that any seismic signal is the result of *summing* (actually, convolving) a wavelet with the\n",
        "reflection coefficient (which is related with changes in rock properties suh as density and velocity) of the medium. In simulation, it's common to\n",
        "use *zero-phase* wavelets, like the Ricker one, because they tend to provide sharper definition and less distortion between change in rock properties."
      ],
      "metadata": {
        "id": "zCNFgj1K97Qr"
      }
    },
    {
      "cell_type": "code",
      "execution_count": 10,
      "metadata": {
        "id": "1c0-z4dESXvZ",
        "outputId": "72281167-ab7d-408c-ac48-bf2be2c1450e",
        "colab": {
          "base_uri": "https://localhost:8080/"
        }
      },
      "outputs": [
        {
          "output_type": "stream",
          "name": "stdout",
          "text": [
            "0.0003419884920872413\n"
          ]
        }
      ],
      "source": [
        "# Basic parameters\n",
        "# ---------------------------------------------------------------\n",
        "nt    = 1024    # number of time steps\n",
        "c     = 343.    # acoustic velocity [m/s]\n",
        "eps   = 0.2     # stability limit\n",
        "isnap = 50      # snapshot frequency\n",
        "isx   = 600     # source location #1250\n",
        "f0    = 60.     # Frequency [Hz](div by 5)\n",
        "nx    = 1024    # number of grid points in x  #2024\n",
        "\n",
        "# pressure fields Initialization\n",
        "p = np.zeros(nx) ; pnew = p ; pold = p ; d2p = p; dp = p   \n",
        "ap = np.zeros(nx); apnew = ap; apold = ap; ad2p = ap; adp = ap \n",
        "sp = np.zeros(nx); spnew = sp; spold = sp; sd2p = sp; sdp = p \n",
        "\n",
        "dx = 600./(nx-1)  # calculate space increment\n",
        "x  = np.arange(0, nx)*dx   # initialize space coordinates\n",
        "dt = eps*dx/c; # calculate time step from stability criterion\n",
        "\n",
        "print(dt)"
      ]
    },
    {
      "cell_type": "code",
      "execution_count": 11,
      "metadata": {
        "id": "W50KwQqOScMR"
      },
      "outputs": [],
      "source": [
        "# source time function\n",
        "# ---------------------------------------------------------------\n",
        "t   = np.arange(1, nt+1)*dt  # initialize time axis\n",
        "T0  = 1./f0\n",
        "tmp = ricker(f=10, len=0.5, dt=0.002, peak_loc=0.25)#dt, T0)\n",
        "tmp = np.diff(tmp)\n",
        "src = np.zeros(nt) \n",
        "src[0:np.size(tmp)] = tmp\n",
        "lam = c*T0\n",
        "\n",
        "#spatial source function\n",
        "# ---------------------------------------------------------------\n",
        "sigma = 2*dx\n",
        "x0 = x[isx-1]\n",
        "sg = np.exp(-1/sigma**2 *(x - x0)**2); sg = sg/np.amax(sg)"
      ]
    },
    {
      "cell_type": "code",
      "execution_count": 12,
      "metadata": {
        "id": "jJZFTZZ6otEd"
      },
      "outputs": [],
      "source": [
        "def fourier_derivative_2nd(f, dx):\n",
        "    # Length of vector f\n",
        "    nx = np.size(f)\n",
        "    # Initialize k vector up to Nyquist wavenumber \n",
        "    kmax = np.pi / dx\n",
        "    dk = kmax / (nx / 2)\n",
        "    k = np.arange(float(nx))\n",
        "    k[: int(nx/2)] = k[: int(nx/2)] * dk \n",
        "    k[int(nx/2) :] = k[: int(nx/2)] - kmax\n",
        "    \n",
        "    # Fourier derivative\n",
        "    ff = np.fft.fft(f)\n",
        "#     print(ff)\n",
        "    ff = (1j*k)**2 * ff\n",
        "    df_num = np.real(np.fft.ifft(ff))\n",
        "    return df_num"
      ]
    },
    {
      "cell_type": "code",
      "execution_count": 13,
      "metadata": {
        "id": "r8WtiYAuotEe"
      },
      "outputs": [],
      "source": [
        "#Initialize values\n",
        "for it in range(nt):\n",
        "#     print(it)\n",
        "    # ----------------------------------------\n",
        "    # Fourier Pseudospectral Method\n",
        "    # ----------------------------------------           \n",
        "    sd2p  = fourier_derivative_2nd(sp, dx)      # 2nd space derivative     \n",
        "    spnew = 2*sp - spold + c**2 * dt**2 * sd2p  # Time Extrapolation   \n",
        "    spnew = spnew + sg*src[it]*dt**2            # Add sources   \n",
        "    spold, sp = sp, spnew                       # Time levels\n",
        "    sp[1] = 0; sp[nx-1] = 0 "
      ]
    },
    {
      "cell_type": "code",
      "execution_count": 14,
      "metadata": {
        "colab": {
          "base_uri": "https://localhost:8080/",
          "height": 471
        },
        "id": "sB_X5ZnKSfgI",
        "outputId": "3395ea83-039b-45b3-a0d8-10f092416b85"
      },
      "outputs": [
        {
          "output_type": "display_data",
          "data": {
            "text/plain": [
              "<Figure size 864x504 with 1 Axes>"
            ],
            "image/png": "[encoded data removed]"
          },
          "metadata": {
            "needs_background": "light"
          }
        },
        {
          "output_type": "display_data",
          "data": {
            "text/plain": [
              "<Figure size 432x288 with 0 Axes>"
            ]
          },
          "metadata": {}
        }
      ],
      "source": [
        "# Initialize animated plot\n",
        "# ---------------------------------------------------------------\n",
        "fig, (ax3) = plt.subplots(1, sharex=True, sharey=True, figsize=(12,7))  \n",
        "line3 = ax3.plot(x[isx:], sp[isx:], 'b', lw=1.5, label='Discrete Fourier Transform')\n",
        "# ax1.axis([isx*dx, nx*dx, -6E-7, 6E-7]); ax3.set_xlabel('x [m]')\n",
        "ax3.legend(loc=4)\n",
        "plt.xlabel('Number of time steps')\n",
        "plt.ylabel('Pressure fields boundaries')\n",
        "plt.ion()   # set interective mode\n",
        "plt.show()\n",
        "\n",
        "# ---------------------------------------------------------------\n",
        "# Time extrapolation\n",
        "# ---------------------------------------------------------------\n",
        "\n",
        "for it in range(nt):\n",
        "#     print(it)\n",
        "    # ----------------------------------------\n",
        "    # Fourier Pseudospectral Method\n",
        "    # ----------------------------------------           \n",
        "    sd2p  = fourier_derivative_2nd(sp, dx)      # 2nd space derivative     \n",
        "    spnew = 2*sp - spold + c**2 * dt**2 * sd2p  # Time Extrapolation   \n",
        "    spnew = spnew + sg*src[it]*dt**2            # Add sources   \n",
        "    spold, sp = sp, spnew                       # Time levels\n",
        "    sp[1] = 0; sp[nx-1] = 0     # set boundaries pressure free\n",
        "    \n",
        "    # --------------------------------------   \n",
        "    # Animation plot. Display solution\n",
        "    if not it % isnap: \n",
        "        for l in line3:\n",
        "            l.remove()\n",
        "            del l\n",
        "            \n",
        "        # -------------------------------------- \n",
        "        # Display lines\n",
        "        line3 = ax3.plot(x[isx:], sp[isx:], 'b', lw=1.5)\n",
        "        plt.gcf().canvas.draw()"
      ]
    },
    {
      "cell_type": "markdown",
      "metadata": {
        "id": "ZWCSyqE8Sw9P"
      },
      "source": [
        "# Quantum Part using Ricker Wavelet Generator and Quantum Fourier Transform"
      ]
    },
    {
      "cell_type": "code",
      "execution_count": 15,
      "metadata": {
        "id": "2SNIBZxtotEh"
      },
      "outputs": [],
      "source": [
        "#Create Quantum Circuit\n",
        "def quantumFourierDerivative(f,dx):\n",
        "    \"\"\"Create the Quantum Circuit base on the signal input\n",
        "    and return the signal in the real part\"\"\"\n",
        "    nx = np.size(f)\n",
        "    kmax = np.pi / dx\n",
        "    dk = kmax / (nx / 2)\n",
        "    k = np.arange(float(nx))\n",
        "    k[: int(nx/2)] = k[: int(nx/2)] * dk \n",
        "    k[int(nx/2) :] = k[: int(nx/2)] - kmax\n",
        "  # Quantum Fourier derivative\n",
        "    n_qubits_signal = int(math.log2(len(f)))\n",
        "    signal_qc = create_encoded_qc(f)\n",
        "    signal_qc = qft(signal_qc,n_qubits_signal)\n",
        "\n",
        "  ### This part is to extract the State vector\n",
        "    backend_state = Aer.get_backend('statevector_simulator')\n",
        "    job_state = backend_state.run(signal_qc)\n",
        "    result_state = job_state.result()\n",
        "    outputstate_2 = result_state.get_statevector(signal_qc, decimals=3)\n",
        "\n",
        "  ### This part is to extract the data from outputstate_2 for compatibility in Colab and IBM\n",
        "    i = 0\n",
        "    outputstate_2_a = []\n",
        "    while i <= (len(outputstate_2)-1):\n",
        "      outputstate_2_a.append(outputstate_2[i])\n",
        "      i += 1\n",
        "    outputstate_2_aN = np.array(outputstate_2_a)\n",
        "\n",
        "    recoverStateSignal = outputstate_2_aN/((1/len(f))*2)\n",
        "    # print(recoverStateSignal,'Fourier_quantum')\n",
        "    ff = (1j*k)**2 * recoverStateSignal\n",
        "    df_num = np.real(np.fft.ifft(ff))\n",
        "    return df_num"
      ]
    },
    {
      "cell_type": "code",
      "execution_count": 16,
      "metadata": {
        "id": "71mJ2uwZotEh",
        "outputId": "d5520f98-fd58-4d13-bc94-444c722c69db",
        "colab": {
          "base_uri": "https://localhost:8080/"
        }
      },
      "outputs": [
        {
          "output_type": "execute_result",
          "data": {
            "text/plain": [
              "array([-0.01814213, -0.03215055,  0.00189971, ..., -0.00780952,\n",
              "        0.02208156,  0.01918241])"
            ]
          },
          "metadata": {},
          "execution_count": 16
        }
      ],
      "source": [
        "quantumFourierDerivative(sp,dx)"
      ]
    },
    {
      "cell_type": "code",
      "execution_count": 17,
      "metadata": {
        "id": "pXsNc69aotEi",
        "outputId": "f32c85ad-fce2-4324-bab0-134a5b0f9709",
        "colab": {
          "base_uri": "https://localhost:8080/"
        }
      },
      "outputs": [
        {
          "output_type": "stream",
          "name": "stdout",
          "text": [
            "0.0003419884920872413\n"
          ]
        }
      ],
      "source": [
        "# Basic parameters\n",
        "# ---------------------------------------------------------------\n",
        "nt    = 1024    # number of time steps\n",
        "c     = 343.    # acoustic velocity [m/s]\n",
        "eps   = 0.2     # stability limit\n",
        "isnap = 50      # snapshot frequency\n",
        "isx   = 600    # source location #1250\n",
        "f0    = 60.     # Frequency [Hz](div by 5)\n",
        "nx    = 1024    # number of grid points in x  #2024\n",
        "\n",
        "# pressure fields Initialization\n",
        "p = np.zeros(nx) ; pnew = p ; pold = p ; d2p = p; dp = p   \n",
        "ap = np.zeros(nx); apnew = ap; apold = ap; ad2p = ap; adp = ap \n",
        "sp = np.zeros(nx); spnew = sp; spold = sp; sd2p = sp; sdp = p \n",
        "\n",
        "dx = 600./(nx-1)  # calculate space increment\n",
        "x  = np.arange(0, nx)*dx   # initialize space coordinates\n",
        "dt = eps*dx/c; # calculate time step from stability criterion\n",
        "\n",
        "print(dt)"
      ]
    },
    {
      "cell_type": "code",
      "execution_count": 18,
      "metadata": {
        "id": "wlC8EXOlotEj"
      },
      "outputs": [],
      "source": [
        "# source time function\n",
        "# ---------------------------------------------------------------\n",
        "t   = np.arange(1, nt+1)*dt  # initialize time axis\n",
        "T0  = 1./f0\n",
        "tmp = ricker(f=10, len=0.5, dt=0.002, peak_loc=0.25)#dt, T0)\n",
        "tmp = np.diff(tmp)\n",
        "src = np.zeros(nt) \n",
        "src[0:np.size(tmp)] = tmp\n",
        "lam = c*T0\n",
        "\n",
        "#spatial source function\n",
        "# ---------------------------------------------------------------\n",
        "sigma = 2*dx\n",
        "x0 = x[isx-1]\n",
        "sg = np.exp(-1/sigma**2 *(x - x0)**2); sg = sg/np.amax(sg)"
      ]
    },
    {
      "cell_type": "code",
      "execution_count": 19,
      "metadata": {
        "id": "JTYKhdk6otEj"
      },
      "outputs": [],
      "source": [
        "#Initialize values\n",
        "for it in range(nt):\n",
        "#     print(it)\n",
        "    # ----------------------------------------\n",
        "    # Fourier Pseudospectral Method\n",
        "    # ----------------------------------------           \n",
        "    sd2p  = fourier_derivative_2nd(sp, dx)      # 2nd space derivative     \n",
        "    spnew = 2*sp - spold + c**2 * dt**2 * sd2p  # Time Extrapolation   \n",
        "    spnew = spnew + sg*src[it]*dt**2            # Add sources   \n",
        "    spold, sp = sp, spnew                       # Time levels\n",
        "    sp[1] = 0; sp[nx-1] = 0 "
      ]
    },
    {
      "cell_type": "code",
      "execution_count": 20,
      "metadata": {
        "id": "wEtJ2BRjotEj",
        "outputId": "5b3f09a2-1fcc-4b6f-d65f-0a5adcabe8aa",
        "colab": {
          "base_uri": "https://localhost:8080/",
          "height": 471
        }
      },
      "outputs": [
        {
          "output_type": "display_data",
          "data": {
            "text/plain": [
              "<Figure size 864x504 with 1 Axes>"
            ],
            "image/png": "[encoded data removed]"
          },
          "metadata": {
            "needs_background": "light"
          }
        },
        {
          "output_type": "display_data",
          "data": {
            "text/plain": [
              "<Figure size 432x288 with 0 Axes>"
            ]
          },
          "metadata": {}
        }
      ],
      "source": [
        "# Initialize animated plot\n",
        "# ---------------------------------------------------------------\n",
        "fig, (ax3) = plt.subplots(1, sharex=True, sharey=True, figsize=(12,7))  \n",
        "line3 = ax3.plot(x[isx:], sp[isx:], 'b', lw=1.5, label='Quantum Fourier Transform')\n",
        "ax3.legend(loc=4)\n",
        "plt.xlabel('Number of time steps')\n",
        "plt.ylabel('Pressure fields boundaries')\n",
        "plt.ion()   # set interective mode\n",
        "plt.show()\n",
        "\n",
        "# ---------------------------------------------------------------\n",
        "# Time extrapolation\n",
        "# ---------------------------------------------------------------\n",
        "for it in range(nt):\n",
        "    # ----------------------------------------\n",
        "    # Quantum Fourier Pseudospectral Method\n",
        "    # ----------------------------------------           \n",
        "    sd2p  = quantumFourierDerivative(sp, dx)      # 2nd space derivative     \n",
        "    spnew = 2*sp - spold + c**2 * dt**2 * sd2p  # Time Extrapolation   \n",
        "    spnew = spnew + sg*src[it]*dt**2            # Add sources   \n",
        "    spold, sp = sp, spnew                       # Time levels\n",
        "    sp[1] = 0; sp[nx-1] = 0     # set boundaries pressure free\n",
        "       \n",
        "    # Animation plot. Display solution\n",
        "    if not it % isnap: \n",
        "        for l in line3:\n",
        "            l.remove()\n",
        "            del l\n",
        "        # -------------------------------------- \n",
        "        # Display lines\n",
        "        line3 = ax3.plot(x[isx:], sp[isx:], 'b', lw=1.5)\n",
        "        \n",
        "        plt.gcf().canvas.draw()"
      ]
    },
    {
      "cell_type": "code",
      "source": [],
      "metadata": {
        "id": "axykQo8zitDy"
      },
      "execution_count": 20,
      "outputs": []
    },
    {
      "cell_type": "markdown",
      "source": [
        "# References\n",
        "[1] Igel, H. (2017). Computational seismology: a practical introduction. Oxford University Press.\n",
        "\n",
        "[2] https://github.com/davofis/computational_seismology/blob/master/05_pseudospectral/fourier_acoustic_1d.ipynb\n",
        "\n",
        "[3] https://qiskit.org/textbook/ch-algorithms/quantum-fourier-transform.html\n",
        "\n",
        "[4] M. Nielsen and I. Chuang, Quantum Computation and Quantum Information, Cambridge Series on Information and the Natural Sciences (Cambridge University Press, Cambridge, 2000).\n",
        "\n",
        "[5] F. Leymann and J. Barzen The bitter truth about gate-based quantum algorithms in the NISQ era 2020 Quantum Sci. Technol. 5\n",
        "\n",
        "[6] G. H. Golub and C. F. Van Loan, Matrix Computat\n",
        "\n"
      ],
      "metadata": {
        "id": "DbwcuCHyrDBn"
      }
    }
  ],
  "metadata": {
    "colab": {
      "provenance": [],
      "collapsed_sections": []
    },
    "kernelspec": {
      "display_name": "Python 3",
      "language": "python",
      "name": "python3"
    },
    "language_info": {
      "codemirror_mode": {
        "name": "ipython",
        "version": 3
      },
      "file_extension": ".py",
      "mimetype": "text/x-python",
      "name": "python",
      "nbconvert_exporter": "python",
      "pygments_lexer": "ipython3",
      "version": "3.8.5"
    }
  },
  "nbformat": 4,
  "nbformat_minor": 0
}